{
  "nbformat": 4,
  "nbformat_minor": 0,
  "metadata": {
    "colab": {
      "provenance": []
    },
    "kernelspec": {
      "name": "python3",
      "display_name": "Python 3"
    },
    "language_info": {
      "name": "python"
    }
  },
  "cells": [
    {
      "cell_type": "code",
      "source": [
        "#stopwords\n",
        "import os"
      ],
      "metadata": {
        "id": "0zaSahl-uic6"
      },
      "execution_count": 12,
      "outputs": []
    },
    {
      "cell_type": "code",
      "source": [
        "# Function to remove stopwords from a text and return the cleaned text\n",
        "def remove_stopwords(text, stopwords):\n",
        "    words = text.split()\n",
        "    cleaned_words = [word for word in words if word.lower() not in stopwords]\n",
        "    return ' '.join(cleaned_words)"
      ],
      "metadata": {
        "id": "LoPm3BAQu9Qh"
      },
      "execution_count": 13,
      "outputs": []
    },
    {
      "cell_type": "code",
      "source": [
        "def read_stopwords(stopwords_file):\n",
        "    with open(stopwords_file, 'r', encoding='utf-8') as file:\n",
        "        for line in file:\n",
        "            word = line.strip().lower()\n",
        "            if word:\n",
        "                stopwords.add(word)\n",
        "    return stopwords"
      ],
      "metadata": {
        "id": "WsEwtZ-CvIAo"
      },
      "execution_count": 14,
      "outputs": []
    },
    {
      "cell_type": "code",
      "source": [
        "def process_files(input_dir, output_dir, stopwords):\n",
        "    for filename in os.listdir(input_dir):\n",
        "        input_file = os.path.join(input_dir, filename)\n",
        "        if os.path.isfile(input_file):\n",
        "            output_file = os.path.join(output_dir, filename)\n",
        "            with open(input_file, 'r', encoding='utf-8') as infile, open(output_file, 'w', encoding='utf-8') as outfile:\n",
        "                for line in infile:\n",
        "                    cleaned_line = remove_stopwords(line, stopwords)\n",
        "                    outfile.write(cleaned_line + '\\n')"
      ],
      "metadata": {
        "id": "NrK5AReEvS93"
      },
      "execution_count": 15,
      "outputs": []
    },
    {
      "cell_type": "code",
      "source": [
        "if __name__ == \"__main__\":\n",
        "    # Directory containing the input text files\n",
        "    input_directory = 'input_texts'\n",
        "\n",
        "    # Directory where the processed text files will be saved\n",
        "    output_directory = 'output_texts'\n",
        "\n",
        "    # Path to the stopwords file\n",
        "    stopwords_file = 'stopwords.txt'\n",
        "\n",
        "    # Read stopwords from file\n",
        "    stopwords = read_stopwords(stopwords_file)\n",
        "\n",
        "    # Process text files in the input directory and save processed text to output directory\n",
        "    process_files(input_directory, output_directory, stopwords)\n",
        "\n",
        "    print(\"Stopwords removed from text files in\", input_directory, \"and saved to\", output_directory)"
      ],
      "metadata": {
        "colab": {
          "base_uri": "https://localhost:8080/"
        },
        "id": "un0JQSpOvXLL",
        "outputId": "f54b79d6-a1f7-4e7b-80dd-a7a362b16036"
      },
      "execution_count": 16,
      "outputs": [
        {
          "output_type": "stream",
          "name": "stdout",
          "text": [
            "Stopwords removed from text files in input_texts and saved to output_texts\n"
          ]
        }
      ]
    }
  ]
}